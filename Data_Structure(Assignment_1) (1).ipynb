{
  "nbformat": 4,
  "nbformat_minor": 0,
  "metadata": {
    "colab": {
      "provenance": []
    },
    "kernelspec": {
      "name": "python3",
      "display_name": "Python 3"
    },
    "language_info": {
      "name": "python"
    }
  },
  "cells": [
    {
      "cell_type": "code",
      "execution_count": null,
      "metadata": {
        "id": "tXcKnil4AVhu"
      },
      "outputs": [],
      "source": []
    },
    {
      "cell_type": "markdown",
      "source": [
        "1/ Discuss string slicing and provide example.\n",
        " - In python string slicing is dfined as about obtaning a sub-string from the given string by slicing it respectively from start to end.\n",
        " we use two methods of string slicing are 1- in-build slice() method and another is [:] array slice.\n",
        "\n",
        " In slice() constructor create a slice object representing the set of indices specified by range(start, stop, step,).\n",
        " In array/list slicing method, indexing syntax can be used as a substitute for the slice object, it is easy and convenient way to slice a string using list slicing and array slicing both syntax-wise and execution-wise.\n"
      ],
      "metadata": {
        "id": "XfASD35oAZdL"
      }
    },
    {
      "cell_type": "code",
      "source": [
        "# string slicing\n",
        "string = 'ASTRING'\n",
        "\n",
        "# using slice constructor\n",
        "s1 = slice(3)\n",
        "s2 = slice(1,5,2)\n",
        "s3 = slice(-1,-5,-2)\n",
        "\n",
        "print(\"string slicing\")\n",
        "print(string[s1])\n",
        "print(string[s2])\n",
        "print(string[s3])"
      ],
      "metadata": {
        "colab": {
          "base_uri": "https://localhost:8080/"
        },
        "id": "FZhyHVQLD3uc",
        "outputId": "bfac3fbe-76db-4cd2-fc3e-c04c242423cd"
      },
      "execution_count": null,
      "outputs": [
        {
          "output_type": "stream",
          "name": "stdout",
          "text": [
            "string slicing\n",
            "AST\n",
            "SR\n",
            "GI\n"
          ]
        }
      ]
    },
    {
      "cell_type": "code",
      "source": [
        "# reverse the string\n",
        "\n",
        "text = 'HIMACHAL'\n",
        "\n",
        "# Print string in reverse\n",
        "print(text[::-1])"
      ],
      "metadata": {
        "colab": {
          "base_uri": "https://localhost:8080/"
        },
        "id": "4FsKNWvOEn6J",
        "outputId": "51172462-5fdd-4f18-9289-470c4c3b001d"
      },
      "execution_count": null,
      "outputs": [
        {
          "output_type": "stream",
          "name": "stdout",
          "text": [
            "LAHCAMIH\n"
          ]
        }
      ]
    },
    {
      "cell_type": "markdown",
      "source": [
        "2/ Explain the key features of lists in python.\n",
        "- Lists are versatile for storing and managing collections that might change,these are just like dynamically sized arrays, declared in other languages, it is collection of things,elclosed in [] and separated by commas.\n",
        "Lists are mutable and can be altered even after their creation, List are created by just placing the sequence inside the[].\n",
        "\n",
        "Python len() is used to get the length of the list.\n",
        "\n",
        "Adding elements to a python list\n",
        "method 1- using append()\n",
        "method 2- using insert()\n",
        "method 3- using extend()\n",
        "\n",
        "Reversing a list in python\n",
        "method 1- using reverse()\n",
        "method 2- using reversed() function\n",
        "\n",
        "Removing elements from list\n",
        "method 1- using remove()\n",
        "method 2- using pop()\n",
        "\n"
      ],
      "metadata": {
        "id": "yRZWQ_POHgEE"
      }
    },
    {
      "cell_type": "code",
      "source": [
        "# Reversing a list\n",
        "\n",
        "mylist = [1,2,3,4,5,'Ankit','Rana']\n",
        "mylist.reverse()\n",
        "print(mylist)\n"
      ],
      "metadata": {
        "colab": {
          "base_uri": "https://localhost:8080/"
        },
        "id": "j5Lafo0nMJC3",
        "outputId": "c298e8c7-d92c-467f-c9b7-4e1d20b35004"
      },
      "execution_count": null,
      "outputs": [
        {
          "output_type": "stream",
          "name": "stdout",
          "text": [
            "['Rana', 'Ankit', 5, 4, 3, 2, 1]\n"
          ]
        }
      ]
    },
    {
      "cell_type": "code",
      "source": [],
      "metadata": {
        "id": "ICMd4C0oMtRP"
      },
      "execution_count": null,
      "outputs": []
    },
    {
      "cell_type": "markdown",
      "source": [
        "3/ Describe how to access, modify, and delete elements in a list with example.\n",
        "-  In order to access the list items refer to the index number, use the index operator[] to access an item in a list. The index must be an integer. Nested lists are accessed using nested indexing.\n",
        "And in order to modify list elements in python we use append(),insert(),extend(), method to add or modify the list in python.\n",
        "And for delete the items from list in python we use remove(), pop() methods to delete and remove items from list in python.\n",
        "\n"
      ],
      "metadata": {
        "id": "MUfAPsCLM1FJ"
      }
    },
    {
      "cell_type": "code",
      "source": [
        "# list modification>> index method\n",
        "\n",
        "# Define a list\n",
        "x = [2,3,4,5,6,57]\n",
        "print(x.index(4))\n",
        "\n"
      ],
      "metadata": {
        "colab": {
          "base_uri": "https://localhost:8080/"
        },
        "id": "0d49YUVroxpo",
        "outputId": "ddc5ab64-45fd-4ef8-8be0-efb3b695b768"
      },
      "execution_count": 7,
      "outputs": [
        {
          "output_type": "stream",
          "name": "stdout",
          "text": [
            "2\n"
          ]
        }
      ]
    },
    {
      "cell_type": "code",
      "source": [
        "# sort method\n",
        "z = [3,2,1,9,8,6,7,4,9]\n",
        "z.sort()\n",
        "print(z)"
      ],
      "metadata": {
        "colab": {
          "base_uri": "https://localhost:8080/"
        },
        "id": "JvjHPY94pbnP",
        "outputId": "ed9ed19c-4d57-4616-dad0-a5336060a0fb"
      },
      "execution_count": 9,
      "outputs": [
        {
          "output_type": "stream",
          "name": "stdout",
          "text": [
            "[1, 2, 3, 4, 6, 7, 8, 9, 9]\n"
          ]
        }
      ]
    },
    {
      "cell_type": "code",
      "source": [
        "# append method\n",
        "\n",
        "z = [7,5,3,9]\n",
        "z.append(7)\n",
        "print(z)"
      ],
      "metadata": {
        "colab": {
          "base_uri": "https://localhost:8080/"
        },
        "id": "ipsK5sm0qX44",
        "outputId": "67006317-30d7-4024-a4fd-bea0354210eb"
      },
      "execution_count": 13,
      "outputs": [
        {
          "output_type": "stream",
          "name": "stdout",
          "text": [
            "[7, 5, 3, 9, 7]\n"
          ]
        }
      ]
    },
    {
      "cell_type": "markdown",
      "source": [
        "4/ Compare and contrast tuples and list with example.\n",
        "- In tuples items can not be changed or modified and it is secure way to store data that should not be modified.Tuples are used to store multiple items in single variable,tuples allow duplicate values.\n",
        "But in lists we can modify/remove/add elements with in a list using indexing an dslicing methods, lists are versatile for storing and managing collections that might change.\n"
      ],
      "metadata": {
        "id": "9HqV2OG2rC1E"
      }
    },
    {
      "cell_type": "code",
      "source": [
        "# duplicate values in tuple\n",
        "\n",
        "x = (\"apple\",\"banana\",\"cherry\",\"apple\",\"cherry\",\"mango\")\n",
        "print(x)\n",
        "\n",
        "# tuple length\n",
        "print(len(x))\n",
        "\n",
        "# type of data type\n",
        "print(type(x))"
      ],
      "metadata": {
        "colab": {
          "base_uri": "https://localhost:8080/"
        },
        "id": "C57ZseL5tFnj",
        "outputId": "693c49db-e3cc-41aa-a23c-dbf579ca1924"
      },
      "execution_count": 17,
      "outputs": [
        {
          "output_type": "stream",
          "name": "stdout",
          "text": [
            "('apple', 'banana', 'cherry', 'apple', 'cherry', 'mango')\n",
            "6\n",
            "<class 'tuple'>\n"
          ]
        }
      ]
    },
    {
      "cell_type": "code",
      "source": [
        "# for list we add, remove and modify\n",
        "\n",
        "z = [2,3,5,7,9]\n",
        "z.append(3)\n",
        "print(z)"
      ],
      "metadata": {
        "colab": {
          "base_uri": "https://localhost:8080/"
        },
        "id": "ztIKM8D5tdm3",
        "outputId": "c41970c6-81bf-420a-f48a-a8c8c63283a2"
      },
      "execution_count": 19,
      "outputs": [
        {
          "output_type": "stream",
          "name": "stdout",
          "text": [
            "[2, 3, 5, 7, 9, 3]\n"
          ]
        }
      ]
    },
    {
      "cell_type": "markdown",
      "source": [
        "5/ Describe the key features of sets and provide eaxmple of their use.\n",
        "- Sets are defined as unordered collection of unique elements,sets are immutable,do not duplicate values,and unordered.\n",
        "\n",
        "Sets items are of any type of datatype:string,boolean,tuple,float,int.\n",
        "\n",
        "Various set methods are used: update(),add(),copy(),clear(),discard(),union(),difference(),pop(),intersection() etc.\n",
        "\n"
      ],
      "metadata": {
        "id": "vlCoNv-IvJEd"
      }
    },
    {
      "cell_type": "code",
      "source": [
        "# creating different types of sets\n",
        "\n",
        "#integer set\n",
        "z = {2,3,45,56}\n",
        "print(z)\n",
        "\n",
        "#mixed set\n",
        "z = {12.0,\"hello\",(11,34,13)}\n",
        "print(z)\n",
        "\n",
        "#modify a set\n",
        "#adding an item\n",
        "\n",
        "z.add(20)\n",
        "print(z)\n",
        "\n",
        "# length of set\n",
        "\n",
        "cars = {\"TATA\",\"MAHINDRA\",\"HONDA\"}\n",
        "print(len(cars))"
      ],
      "metadata": {
        "colab": {
          "base_uri": "https://localhost:8080/"
        },
        "id": "eGitniGaxvDf",
        "outputId": "390e01ef-8cc1-478c-efb5-2dafddf4cd59"
      },
      "execution_count": 25,
      "outputs": [
        {
          "output_type": "stream",
          "name": "stdout",
          "text": [
            "{56, 2, 3, 45}\n",
            "{(11, 34, 13), 'hello', 12.0}\n",
            "{(11, 34, 13), 'hello', 12.0, 20}\n",
            "3\n"
          ]
        }
      ]
    },
    {
      "cell_type": "markdown",
      "source": [
        "6/ Discuss the use cases of tuples and sets in python programming.\n",
        "- Tuples are immutable,they are primarily used to store data that doesn't change frequently.Any operation can store data in a tuple when we don't want it to change,tuple are great to use if we want the data in our collection to be ready-only,never to change,and always remain the same and constant.\n",
        "Tuples are useful for representing fixed datasets and allow us to store an ordered collection of elements.\n",
        "\n",
        "Sets are unordered collection of unique elements, useful for cheking the membership or finding the differene between sets.we can add/remove elements from a set but cannot access the elements by index.In sets duplicate enteries are not allowed, the better choice is set because it allow us to add or remove items while set is in use."
      ],
      "metadata": {
        "id": "S02RZWwTzzBZ"
      }
    },
    {
      "cell_type": "markdown",
      "source": [
        "7/ Describe how to add, modify and delete items in a dictionary with example.\n",
        "- Dictionary is a collection which is ordered/unordered,changeable and do not allow duplicates, these are used to store data values in key.value pairs.\n",
        "\n",
        "Adding an item to dictionary is done by using a new index key and assigning a value to it.\n",
        "\n",
        "Deleting items in dictionary clear(),popitem(),del keyword used.\n",
        "For modify dictionary update() method were used."
      ],
      "metadata": {
        "id": "Pq9U6tyh4Plj"
      }
    },
    {
      "cell_type": "code",
      "source": [
        "# update dictionary\n",
        "\n",
        "thisdict = {\n",
        "    \"brand\":\"TATA\",\n",
        "    \"model\":\"Harrier\",\n",
        "    \"year\":2020\n",
        "}\n",
        "thisdict.update({\"year\":2023})\n",
        "\n",
        "# add item\n",
        "thisdict[\"color\"] = \"Black\"\n",
        "\n",
        "print(thisdict)\n",
        "\n",
        "# removing item\n",
        "\n",
        "thisdict.pop(\"model\")\n",
        "print(thisdict)\n",
        "\n",
        "\n"
      ],
      "metadata": {
        "colab": {
          "base_uri": "https://localhost:8080/"
        },
        "id": "cfzcSF-K6SmA",
        "outputId": "248d6ad9-8dd7-4bc1-9b2f-342ecd6a0e4c"
      },
      "execution_count": 39,
      "outputs": [
        {
          "output_type": "stream",
          "name": "stdout",
          "text": [
            "{'brand': 'TATA', 'model': 'Harrier', 'year': 2023, 'color': 'Black'}\n",
            "{'brand': 'TATA', 'year': 2023, 'color': 'Black'}\n"
          ]
        }
      ]
    },
    {
      "cell_type": "markdown",
      "source": [
        "8/ Discuss the importance of dictionary keys being immutable and provide example.\n",
        "- The hash table implementation of dictionaries uses a hash value calculated from the key value to find the key.If the key were a mutable object, its value could chnage,and thus its hash could also change.\n",
        "\n",
        "As per design implementation of Python dictionary,python dictinaries are saved in the memeory using hash tables.And in most if hash tables there is no way of changing the key of an entry, this because the key's hash value is very important, changing the key almost always changes the hash value.If the key were a mutable object, its value could change,and thus its hash could also change.\n",
        "\n",
        "If we try to look up old value it wouldn't be found because the value of object found in that hash bin would be different.\n",
        "\n",
        "then we convert list to a tuple first and then be used as dictionary keys because tuple are immutable, by function tuple(mylist)"
      ],
      "metadata": {
        "id": "3eLluU489Jpv"
      }
    },
    {
      "cell_type": "code",
      "source": [
        "# converting list to tuple\n",
        "\n",
        "#creating a list\n",
        "mylist = [\"Ankit\",\"Monty\",\"Jubin\",\"Mohit\"]\n",
        "\n",
        "#displaying the list\n",
        "print(\"list = \",mylist)\n",
        "\n",
        "#converting the list to tuple\n",
        "res = tuple(mylist)\n",
        "print(\"Tuple= \",res)\n",
        "\n",
        "# tuple as key\n",
        "dct = {2:\"tom\",\"jerry\":\"string\"}\n",
        "print(\"Dictionary = \")\n",
        "print(dct)\n",
        "\n"
      ],
      "metadata": {
        "colab": {
          "base_uri": "https://localhost:8080/"
        },
        "id": "38exV1Ud_y25",
        "outputId": "36b0806c-0bad-42b2-86fe-14b603b840b9"
      },
      "execution_count": 41,
      "outputs": [
        {
          "output_type": "stream",
          "name": "stdout",
          "text": [
            "list =  ['Ankit', 'Monty', 'Jubin', 'Mohit']\n",
            "Tuple=  ('Ankit', 'Monty', 'Jubin', 'Mohit')\n",
            "Dictionary = \n",
            "{2: 'tom', 'jerry': 'string'}\n"
          ]
        }
      ]
    },
    {
      "cell_type": "code",
      "source": [],
      "metadata": {
        "id": "RoQMw_3jA7wf"
      },
      "execution_count": null,
      "outputs": []
    }
  ]
}